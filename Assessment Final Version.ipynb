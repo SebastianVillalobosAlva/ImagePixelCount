{
 "cells": [
  {
   "cell_type": "code",
   "execution_count": 1,
   "id": "b49be519",
   "metadata": {},
   "outputs": [],
   "source": [
    "from Functions import *"
   ]
  },
  {
   "cell_type": "code",
   "execution_count": 2,
   "id": "04001c32",
   "metadata": {},
   "outputs": [],
   "source": [
    "api_key = 'live_05bd0dcf53fd4d62aa81405a08c117d9'\n",
    "project = \"Traffic Sign Detection\"\n",
    "tasks = get_API_tasks(api_key, project)"
   ]
  },
  {
   "cell_type": "code",
   "execution_count": 3,
   "id": "a7654b94",
   "metadata": {
    "scrolled": false
   },
   "outputs": [
    {
     "name": "stderr",
     "output_type": "stream",
     "text": [
      "C:\\Users\\SebastianVillalobos\\anaconda3\\lib\\site-packages\\skimage\\transform\\_warps.py:290: UserWarning: Anti-aliasing standard deviation greater than zero but not down-sampling along all axes\n",
      "  return resize(image, output_shape, order=order, mode=mode, cval=cval,\n",
      "C:\\Users\\SebastianVillalobos\\anaconda3\\lib\\site-packages\\skimage\\transform\\_warps.py:176: UserWarning: Bi-quadratic interpolation behavior has changed due to a bug in the implementation of scikit-image. The new version now serves as a wrapper around SciPy's interpolation functions, which itself is not verified to be a correct implementation. Until skimage's implementation is fixed, we recommend to use bi-linear or bi-cubic interpolation instead.\n",
      "  out = warp(image, tform, output_shape=output_shape, order=order,\n"
     ]
    },
    {
     "name": "stdout",
     "output_type": "stream",
     "text": [
      "CSV file has been created\n"
     ]
    }
   ],
   "source": [
    "audit_task(tasks)"
   ]
  },
  {
   "cell_type": "code",
   "execution_count": null,
   "id": "6e592478",
   "metadata": {},
   "outputs": [],
   "source": []
  }
 ],
 "metadata": {
  "hide_input": false,
  "kernelspec": {
   "display_name": "Python 3",
   "language": "python",
   "name": "python3"
  },
  "language_info": {
   "codemirror_mode": {
    "name": "ipython",
    "version": 3
   },
   "file_extension": ".py",
   "mimetype": "text/x-python",
   "name": "python",
   "nbconvert_exporter": "python",
   "pygments_lexer": "ipython3",
   "version": "3.8.8"
  }
 },
 "nbformat": 4,
 "nbformat_minor": 5
}
