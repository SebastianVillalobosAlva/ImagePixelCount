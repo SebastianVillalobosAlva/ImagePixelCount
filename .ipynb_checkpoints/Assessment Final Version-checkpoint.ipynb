{
 "cells": [
  {
   "cell_type": "code",
   "execution_count": 1,
   "id": "b49be519",
   "metadata": {},
   "outputs": [],
   "source": [
    "from Functions import *"
   ]
  },
  {
   "cell_type": "code",
   "execution_count": 2,
   "id": "04001c32",
   "metadata": {},
   "outputs": [],
   "source": [
    "api_key = 'live_05bd0dcf53fd4d62aa81405a08c117d9'\n",
    "project = \"Traffic Sign Detection\"\n",
    "tasks = get_API_tasks(api_key, project)"
   ]
  },
  {
   "cell_type": "code",
   "execution_count": 3,
   "id": "a7654b94",
   "metadata": {
    "scrolled": false
   },
   "outputs": [
    {
     "name": "stdout",
     "output_type": "stream",
     "text": [
      "CSV file has been created\n"
     ]
    }
   ],
   "source": [
    "audit_task(tasks, dilation_=True, plot=False)"
   ]
  },
  {
   "cell_type": "code",
   "execution_count": null,
   "id": "e57e4565",
   "metadata": {},
   "outputs": [],
   "source": []
  }
 ],
 "metadata": {
  "hide_input": false,
  "kernelspec": {
   "display_name": "Python 3",
   "language": "python",
   "name": "python3"
  },
  "language_info": {
   "codemirror_mode": {
    "name": "ipython",
    "version": 3
   },
   "file_extension": ".py",
   "mimetype": "text/x-python",
   "name": "python",
   "nbconvert_exporter": "python",
   "pygments_lexer": "ipython3",
   "version": "3.8.8"
  }
 },
 "nbformat": 4,
 "nbformat_minor": 5
}
